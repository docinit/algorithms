{
 "cells": [
  {
   "cell_type": "code",
   "execution_count": 2,
   "metadata": {},
   "outputs": [
    {
     "name": "stdout",
     "output_type": "stream",
     "text": [
      "Введите минимальное целое число списка: 10\n",
      "Введите максимальное целое число списка: 300\n",
      "Введите количество элементов списка: 20\n",
      "\n",
      "Максимальное значение = 287, а минимальное = 27.\n",
      "Их индексы (первые вхождения): 10, 2, соответственно.\n",
      "Сумма значений между позициями этих элементов = 921\n",
      "\n",
      "Просуммированные значения:  [224, 118, 73, 271, 131, 49, 55] \n",
      "Значения списка:  [225, 251, 27, 224, 118, 73, 271, 131, 49, 55, 287, 187, 50, 85, 150, 141, 50, 91, 209, 113]\n"
     ]
    }
   ],
   "source": [
    "#6. В одномерном массиве найти сумму элементов, находящихся между минимальным и максимальным элементами.\n",
    "#Сами минимальный и максимальный элементы в сумму не включать.\n",
    "\n",
    "\n",
    "# Алгоритм:\n",
    "# Начало\n",
    "# Создать пустой список\n",
    "# Ввод значений\n",
    "# Проверка правильности ввода значений\n",
    "# Вывод сообщений об ошибках в случае наличия ошибок\n",
    "# min_num=b+1, max_num = a-1\n",
    "# Заполнение списка\n",
    "# Определение максимального и минимального чисел, а также их индексов.\n",
    "# Создание списка для суммирования необходимых значений (между min_num и max_num)\n",
    "# Суммирование\n",
    "# Вывод результатов\n",
    "# Конец\n",
    "\n",
    "import random\n",
    "listl=[]\n",
    "mult1,mult2=0,0\n",
    "while True:\n",
    "    try:\n",
    "        a=int(input('Введите минимальное целое число списка: '))\n",
    "        b=int(input('Введите максимальное целое число списка: '))\n",
    "        n=int(input('Введите количество элементов списка: '))\n",
    "        if a>b:\n",
    "            a,b=b,a\n",
    "        if a<b:\n",
    "            min_num=b+1\n",
    "            max_num = a-1            \n",
    "            for i in range(0,n):\n",
    "                listl.append(random.randint(a,b))\n",
    "            for k,i in enumerate(listl):\n",
    "                if k<=len(listl)-1:\n",
    "                    if listl[k]>max_num:\n",
    "                        max_num=listl[k]\n",
    "                        imax=k\n",
    "                    elif listl[k]<min_num:\n",
    "                        min_num=listl[k]\n",
    "                        imin=k\n",
    "            if imin<imax:\n",
    "                listl2=listl[imin+1:imax]\n",
    "            else:\n",
    "                listl2=listl[imax+1:imin]\n",
    "            print (f'\\nМаксимальное значение = {max_num}, а минимальное = {min_num}.')\n",
    "            print (f'Их индексы (первые вхождения): {imax}, {imin}, соответственно.')            \n",
    "            print(f'Сумма значений между позициями этих элементов = {sum(listl2)}')\n",
    "            print('\\nПросуммированные значения: ',listl2, '\\nЗначения списка: ',listl)\n",
    "            break\n",
    "        else:\n",
    "            print ('Вы ввели одинаковые значения в качестве минимума и максимума. Попробуйте ввести правильные значения еще раз.') \n",
    "    except ValueError:\n",
    "        print ('Вы ввели неверные значения. Попробуйте ввести правильные значения еще раз.')"
   ]
  },
  {
   "cell_type": "code",
   "execution_count": null,
   "metadata": {},
   "outputs": [],
   "source": []
  }
 ],
 "metadata": {
  "kernelspec": {
   "display_name": "Python 3",
   "language": "python",
   "name": "python3"
  },
  "language_info": {
   "codemirror_mode": {
    "name": "ipython",
    "version": 3
   },
   "file_extension": ".py",
   "mimetype": "text/x-python",
   "name": "python",
   "nbconvert_exporter": "python",
   "pygments_lexer": "ipython3",
   "version": "3.7.3"
  }
 },
 "nbformat": 4,
 "nbformat_minor": 2
}

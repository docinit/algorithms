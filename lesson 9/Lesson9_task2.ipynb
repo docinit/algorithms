{
 "cells": [
  {
   "cell_type": "code",
   "execution_count": 37,
   "id": "former-peripheral",
   "metadata": {},
   "outputs": [
    {
     "data": {
      "text/plain": [
       "[['a', 4], ['c', 3], ['b', 7]]"
      ]
     },
     "execution_count": 37,
     "metadata": {},
     "output_type": "execute_result"
    }
   ],
   "source": [
    "a = list(['a','a','a','a','c','c','c','b','b','b','b','b','b','b'])\n",
    "[[y, len([x for x in a if x == y])] for y in set(a)]"
   ]
  },
  {
   "cell_type": "code",
   "execution_count": 175,
   "id": "danish-peeing",
   "metadata": {},
   "outputs": [
    {
     "name": "stdin",
     "output_type": "stream",
     "text": [
      "Введите фразу для кодирования по алгоритму Хаффмана:  абракадабра\n"
     ]
    },
    {
     "name": "stdout",
     "output_type": "stream",
     "text": [
      "Результат работы программы:\n",
      "Таблица кодов\n",
      "['а', '10']\n",
      "['б', '111']\n",
      "['д', '0011']\n",
      "['к', '1011']\n",
      "['р', '01']\n",
      "Строка в закодированном виде:\n",
      " 10 111 01 10 1011 10 0011 10 111 01 10\n"
     ]
    }
   ],
   "source": [
    "#2. Закодируйте любую строку по алгоритму Хаффмана.\n",
    "\n",
    "string = str(input('Введите фразу для кодирования по алгоритму Хаффмана: '))\n",
    "# table_code нужен для сохранения закодированных символов\n",
    "table_code={}\n",
    "# count_dict и count_list нужны для подготовки и сортировки символов\n",
    "count_dict={}\n",
    "count_list=[]\n",
    "# лист haffman нужен для перебора отсортированных символов и их наборов\n",
    "haffman=[]\n",
    "count_list = [[len([x for x in string if x == y]), y] for y in set(string)]\n",
    "\n",
    "count_list.sort()\n",
    "#убираем дубликаты символов добавлением в словарь count_dict\n",
    "for i in count_list:\n",
    "    count_dict[i[1]]=[i[0]]\n",
    "# для дальнейшей обработки нужен список\n",
    "count_list=[]\n",
    "for i in count_dict:\n",
    "    count_list.append([[i],count_dict[i][0]])\n",
    "\n",
    "#####\n",
    "#Создание списков завершено. Переход к сортировке.\n",
    "#####\n",
    "\n",
    "### Выполнение цикла, который располагает символы в пары и более длинные списки, согласно\n",
    "# их частоте их встречаемости во фразе, которую мы обрабатываем.\n",
    "while len(count_list)>1:\n",
    "    k=0\n",
    "    # вычисляем сумму\n",
    "    pair_sum=count_list[k][-1]+count_list[k+1][-1]\n",
    "    # на основании суммы и соответствующих символов,\n",
    "    # создаем строку для дальнейшего использования\n",
    "    x=[[''.join([count_list[k][0][0],count_list[k+1][0][0]])],pair_sum]\n",
    "    # для каждой строки в списке count_list\n",
    "    for i in count_list[k+1:]:\n",
    "        # проверяем, что вычисленная сумма меньше или равна частоте, которая указана в\n",
    "        # конце каждой строки\n",
    "        if pair_sum <= i[-1]:\n",
    "            # если это так, то вставляем значение x на ее место, сдвигая ячейки вправо\n",
    "            count_list.insert(count_list.index(i),x)\n",
    "            # сразу заканчиваем цикл, чтобы не испортить другие ячейки\n",
    "            break\n",
    "        # если же это не так, то, если сумма больше частоты, указанной в последней строке\n",
    "        elif pair_sum > count_list[-1][-1]:\n",
    "            # добавляем x в список count_list\n",
    "            count_list.append(x)\n",
    "    # удаляем 2 строки с наименьшими частотами, которые мы использовали для создания x\n",
    "    count_list.pop(k)\n",
    "    count_list.pop(k)\n",
    "    # и не забудем добавить x в список haffman для дальнейшей обработки\n",
    "    haffman.append(x)\n",
    "# печать результата преобразованной фразы в отсортированный список (точнее - строку) символов\n",
    "# print(count_list[0][0][0])\n",
    "\n",
    "set_sign=list(set(string))\n",
    "set_sign.sort()\n",
    "# ноль\n",
    "null_code='0'\n",
    "# один\n",
    "one_code='1'\n",
    "for i in set_sign:\n",
    "    table_code[i]=''\n",
    "for k,i in enumerate(haffman):\n",
    "    #№№№№№№№ Берем первый (и др.) символ - и проверяем на условия\n",
    "    for item in set_sign:\n",
    "        # обработкой символов занимаемся, если символа еще нет в таблице кодов\n",
    "        if table_code[item]=='':\n",
    "            # начало кода каждого символа: пустой код\n",
    "            letter_code=''\n",
    "            # НАЧАЛО: для каждого символа в наборе символов (set_sign)\n",
    "            ######## Если символ есть в i-строке (см. начало цикла for) от haffman\n",
    "            if item in i[0][0]:\n",
    "                # если символ находится в строке списка huffman\n",
    "                ######## и находится в конце этой строки (т.е. имеет бОльший вес), то пишем \"1\"\n",
    "                if item==i[0][0][-1]:\n",
    "                    # сохраняем значение в новую переменную\n",
    "                    item_revealed=i[0][0]\n",
    "                    # пишем первый символ кода для символа\n",
    "                    letter_code=letter_code+one_code\n",
    "                ######### и находится в начале строки, то пишем \"0\"\n",
    "                if item==i[0][0][0]:\n",
    "                    item_revealed=i[0][0]\n",
    "                    letter_code=letter_code+null_code\n",
    "            ######### на этом этапе все буквы, которые встали в пары сзади, получили 0, а если спереди - 1.\n",
    "            # в обоих случаях сохраняем строку huffman с этим символом как новый \"символ\"\n",
    "            # и теперь надо проверить, есть ли этот новый символ внизу huffman-списка\n",
    "            # huffman-список изменять не можем, кроме того, там вложенные списки, да еще и указание частоты,\n",
    "            # но вот сохранить его остаток (ниже проверяемой строки) - можно\n",
    "            ######### СЛЕДУЮЩИЙ ЭТАП\n",
    "                if k<len(haffman)-1:\n",
    "                    haffman_next_step=haffman[k+1:]\n",
    "                    for k_index,next_i in enumerate(haffman_next_step):\n",
    "                        # делаем из этого второго списка простой список набора символов\n",
    "                        # из переменной x - теперь мы можем сравнивать наш item_revealed с x\n",
    "                        haffman_next_step[k_index]=next_i[0][0]\n",
    "                # проходясь по этому списку, ищем item_revealed,\n",
    "                # приравнивая всю строку к item_revealed, если будет найдена, и повторяя поиск\n",
    "                for i_check in haffman_next_step:\n",
    "                    if len(table_code):\n",
    "                        if item_revealed in i_check:\n",
    "                            if item_revealed==i_check[len(i_check)-len(item_revealed):]:\n",
    "                                item_revealed=i_check\n",
    "                                letter_code=letter_code + one_code\n",
    "                            else:\n",
    "                                item_revealed=i_check\n",
    "                                letter_code=letter_code + null_code\n",
    "                    while letter_code in table_code.values():\n",
    "                        letter_code = bin (int(letter_code,2) + 1)[2:]\n",
    "                table_code[item]=letter_code\n",
    "\n",
    "table_code_list=[]\n",
    "for i in table_code:\n",
    "      table_code_list.append([i,table_code[i]])  \n",
    "table_code_list.sort()\n",
    "print('Результат работы программы:')\n",
    "print('Таблица кодов',*table_code_list,sep='\\n')\n",
    "new_string=[]\n",
    "for i in string:\n",
    "    for k in table_code_list:\n",
    "        if i==k[0]:\n",
    "            new_string.append(k[1])\n",
    "print('Строка в закодированном виде:\\n',' '.join(new_string))\n"
   ]
  },
  {
   "cell_type": "code",
   "execution_count": 165,
   "id": "portable-survival",
   "metadata": {},
   "outputs": [
    {
     "data": {
      "text/plain": [
       "3"
      ]
     },
     "execution_count": 165,
     "metadata": {},
     "output_type": "execute_result"
    }
   ],
   "source": [
    "\n",
    "len(table_code)"
   ]
  },
  {
   "cell_type": "code",
   "execution_count": 91,
   "id": "amber-situation",
   "metadata": {},
   "outputs": [
    {
     "data": {
      "text/plain": [
       "10"
      ]
     },
     "execution_count": 91,
     "metadata": {},
     "output_type": "execute_result"
    }
   ],
   "source": [
    "int(bin(10),2)"
   ]
  },
  {
   "cell_type": "code",
   "execution_count": 140,
   "id": "worse-heritage",
   "metadata": {},
   "outputs": [
    {
     "ename": "NameError",
     "evalue": "name 'skipped' is not defined",
     "output_type": "error",
     "traceback": [
      "\u001b[0;31m---------------------------------------------------------------------------\u001b[0m",
      "\u001b[0;31mNameError\u001b[0m                                 Traceback (most recent call last)",
      "\u001b[0;32m<ipython-input-140-716167dc5bd6>\u001b[0m in \u001b[0;36m<module>\u001b[0;34m\u001b[0m\n\u001b[0;32m----> 1\u001b[0;31m \u001b[0;32mdel\u001b[0m \u001b[0mskipped\u001b[0m\u001b[0;34m\u001b[0m\u001b[0;34m\u001b[0m\u001b[0m\n\u001b[0m",
      "\u001b[0;31mNameError\u001b[0m: name 'skipped' is not defined"
     ]
    }
   ],
   "source": [
    "del skipped"
   ]
  },
  {
   "cell_type": "code",
   "execution_count": 100,
   "id": "infinite-cherry",
   "metadata": {},
   "outputs": [
    {
     "name": "stdout",
     "output_type": "stream",
     "text": [
      "0b1\n",
      "2\n",
      "0b0\n",
      "1\n",
      "0b1\n",
      "2\n"
     ]
    }
   ],
   "source": [
    "for i in table_code.values():\n",
    "    print(bin(int(i,2)))\n",
    "    if i in table_code.values():\n",
    "        print (int(bin(int(bin(int(i,2)),2)+1),2))"
   ]
  },
  {
   "cell_type": "code",
   "execution_count": 118,
   "id": "upset-volunteer",
   "metadata": {},
   "outputs": [
    {
     "name": "stdout",
     "output_type": "stream",
     "text": [
      "1\n",
      "10\n",
      "11\n",
      "100\n",
      "101\n",
      "110\n",
      "111\n",
      "1000\n",
      "1001\n",
      "1010\n"
     ]
    }
   ],
   "source": [
    "for i in range(10):\n",
    "    a = int(bin(i),2)+int(bin(1),2)\n",
    "    print(bin(int(a))[2:])"
   ]
  },
  {
   "cell_type": "code",
   "execution_count": 133,
   "id": "constant-wedding",
   "metadata": {},
   "outputs": [
    {
     "data": {
      "text/plain": [
       "['1000', '1110', '11110', '10110', '11011', '10011', '11111', '10111']"
      ]
     },
     "execution_count": 133,
     "metadata": {},
     "output_type": "execute_result"
    }
   ],
   "source": [
    "skipped = [bin(int(i,2)-1)[2:] for k,i in enumerate(list(table_code.values())) if int(list(table_code.values())[k],2)-int(list(table_code.values())[k-1],2) > 1]\n",
    "skipped"
   ]
  },
  {
   "cell_type": "code",
   "execution_count": 130,
   "id": "growing-master",
   "metadata": {},
   "outputs": [
    {
     "data": {
      "text/plain": [
       "['10',\n",
       " '1',\n",
       " '1001',\n",
       " '110',\n",
       " '1111',\n",
       " '11111',\n",
       " '111',\n",
       " '10111',\n",
       " '1100',\n",
       " '11100',\n",
       " '100',\n",
       " '101',\n",
       " '10100',\n",
       " '10000',\n",
       " '100000',\n",
       " '1000',\n",
       " '11',\n",
       " '11000']"
      ]
     },
     "execution_count": 130,
     "metadata": {},
     "output_type": "execute_result"
    }
   ],
   "source": [
    "list(table_code.values())"
   ]
  },
  {
   "cell_type": "code",
   "execution_count": 135,
   "id": "unlike-italic",
   "metadata": {},
   "outputs": [
    {
     "ename": "ValueError",
     "evalue": "invalid literal for int() with base 2: ''",
     "output_type": "error",
     "traceback": [
      "\u001b[0;31m---------------------------------------------------------------------------\u001b[0m",
      "\u001b[0;31mValueError\u001b[0m                                Traceback (most recent call last)",
      "\u001b[0;32m<ipython-input-135-d985d5087af1>\u001b[0m in \u001b[0;36m<module>\u001b[0;34m\u001b[0m\n\u001b[0;32m----> 1\u001b[0;31m \u001b[0;34m[\u001b[0m\u001b[0mbin\u001b[0m\u001b[0;34m(\u001b[0m\u001b[0mint\u001b[0m\u001b[0;34m(\u001b[0m\u001b[0mi\u001b[0m\u001b[0;34m,\u001b[0m\u001b[0;36m2\u001b[0m\u001b[0;34m)\u001b[0m\u001b[0;34m-\u001b[0m\u001b[0;36m1\u001b[0m\u001b[0;34m)\u001b[0m\u001b[0;34m[\u001b[0m\u001b[0;36m2\u001b[0m\u001b[0;34m:\u001b[0m\u001b[0;34m]\u001b[0m \u001b[0;32mfor\u001b[0m \u001b[0mk\u001b[0m\u001b[0;34m,\u001b[0m\u001b[0mi\u001b[0m \u001b[0;32min\u001b[0m \u001b[0menumerate\u001b[0m\u001b[0;34m(\u001b[0m\u001b[0mlist\u001b[0m\u001b[0;34m(\u001b[0m\u001b[0mtable_code\u001b[0m\u001b[0;34m.\u001b[0m\u001b[0mvalues\u001b[0m\u001b[0;34m(\u001b[0m\u001b[0;34m)\u001b[0m\u001b[0;34m)\u001b[0m\u001b[0;34m)\u001b[0m \u001b[0;32mif\u001b[0m \u001b[0mint\u001b[0m\u001b[0;34m(\u001b[0m\u001b[0mlist\u001b[0m\u001b[0;34m(\u001b[0m\u001b[0mtable_code\u001b[0m\u001b[0;34m.\u001b[0m\u001b[0mvalues\u001b[0m\u001b[0;34m(\u001b[0m\u001b[0;34m)\u001b[0m\u001b[0;34m)\u001b[0m\u001b[0;34m[\u001b[0m\u001b[0mk\u001b[0m\u001b[0;34m]\u001b[0m\u001b[0;34m,\u001b[0m\u001b[0;36m2\u001b[0m\u001b[0;34m)\u001b[0m\u001b[0;34m-\u001b[0m\u001b[0mint\u001b[0m\u001b[0;34m(\u001b[0m\u001b[0mlist\u001b[0m\u001b[0;34m(\u001b[0m\u001b[0mtable_code\u001b[0m\u001b[0;34m.\u001b[0m\u001b[0mvalues\u001b[0m\u001b[0;34m(\u001b[0m\u001b[0;34m)\u001b[0m\u001b[0;34m)\u001b[0m\u001b[0;34m[\u001b[0m\u001b[0mk\u001b[0m\u001b[0;34m-\u001b[0m\u001b[0;36m1\u001b[0m\u001b[0;34m]\u001b[0m\u001b[0;34m,\u001b[0m\u001b[0;36m2\u001b[0m\u001b[0;34m)\u001b[0m \u001b[0;34m>\u001b[0m \u001b[0;36m1\u001b[0m\u001b[0;34m]\u001b[0m\u001b[0;34m\u001b[0m\u001b[0;34m\u001b[0m\u001b[0m\n\u001b[0m",
      "\u001b[0;32m<ipython-input-135-d985d5087af1>\u001b[0m in \u001b[0;36m<listcomp>\u001b[0;34m(.0)\u001b[0m\n\u001b[0;32m----> 1\u001b[0;31m \u001b[0;34m[\u001b[0m\u001b[0mbin\u001b[0m\u001b[0;34m(\u001b[0m\u001b[0mint\u001b[0m\u001b[0;34m(\u001b[0m\u001b[0mi\u001b[0m\u001b[0;34m,\u001b[0m\u001b[0;36m2\u001b[0m\u001b[0;34m)\u001b[0m\u001b[0;34m-\u001b[0m\u001b[0;36m1\u001b[0m\u001b[0;34m)\u001b[0m\u001b[0;34m[\u001b[0m\u001b[0;36m2\u001b[0m\u001b[0;34m:\u001b[0m\u001b[0;34m]\u001b[0m \u001b[0;32mfor\u001b[0m \u001b[0mk\u001b[0m\u001b[0;34m,\u001b[0m\u001b[0mi\u001b[0m \u001b[0;32min\u001b[0m \u001b[0menumerate\u001b[0m\u001b[0;34m(\u001b[0m\u001b[0mlist\u001b[0m\u001b[0;34m(\u001b[0m\u001b[0mtable_code\u001b[0m\u001b[0;34m.\u001b[0m\u001b[0mvalues\u001b[0m\u001b[0;34m(\u001b[0m\u001b[0;34m)\u001b[0m\u001b[0;34m)\u001b[0m\u001b[0;34m)\u001b[0m \u001b[0;32mif\u001b[0m \u001b[0mint\u001b[0m\u001b[0;34m(\u001b[0m\u001b[0mlist\u001b[0m\u001b[0;34m(\u001b[0m\u001b[0mtable_code\u001b[0m\u001b[0;34m.\u001b[0m\u001b[0mvalues\u001b[0m\u001b[0;34m(\u001b[0m\u001b[0;34m)\u001b[0m\u001b[0;34m)\u001b[0m\u001b[0;34m[\u001b[0m\u001b[0mk\u001b[0m\u001b[0;34m]\u001b[0m\u001b[0;34m,\u001b[0m\u001b[0;36m2\u001b[0m\u001b[0;34m)\u001b[0m\u001b[0;34m-\u001b[0m\u001b[0mint\u001b[0m\u001b[0;34m(\u001b[0m\u001b[0mlist\u001b[0m\u001b[0;34m(\u001b[0m\u001b[0mtable_code\u001b[0m\u001b[0;34m.\u001b[0m\u001b[0mvalues\u001b[0m\u001b[0;34m(\u001b[0m\u001b[0;34m)\u001b[0m\u001b[0;34m)\u001b[0m\u001b[0;34m[\u001b[0m\u001b[0mk\u001b[0m\u001b[0;34m-\u001b[0m\u001b[0;36m1\u001b[0m\u001b[0;34m]\u001b[0m\u001b[0;34m,\u001b[0m\u001b[0;36m2\u001b[0m\u001b[0;34m)\u001b[0m \u001b[0;34m>\u001b[0m \u001b[0;36m1\u001b[0m\u001b[0;34m]\u001b[0m\u001b[0;34m\u001b[0m\u001b[0;34m\u001b[0m\u001b[0m\n\u001b[0m",
      "\u001b[0;31mValueError\u001b[0m: invalid literal for int() with base 2: ''"
     ]
    }
   ],
   "source": [
    "[bin(int(i,2)-1)[2:] for k,i in enumerate(list(table_code.values())) if int(list(table_code.values())[k],2)-int(list(table_code.values())[k-1],2) > 1]"
   ]
  },
  {
   "cell_type": "code",
   "execution_count": 136,
   "id": "hundred-folks",
   "metadata": {},
   "outputs": [
    {
     "name": "stdout",
     "output_type": "stream",
     "text": [
      "\n",
      "\n",
      "\n",
      "\n",
      "\n",
      "\n",
      "\n",
      "\n",
      "\n",
      "\n",
      "\n",
      "\n",
      "\n",
      "\n",
      "\n",
      "\n",
      "\n",
      "\n"
     ]
    }
   ],
   "source": [
    "for k,i in enumerate(list(table_code.values())):\n",
    "    print(i)"
   ]
  },
  {
   "cell_type": "code",
   "execution_count": null,
   "id": "shared-wales",
   "metadata": {},
   "outputs": [],
   "source": []
  }
 ],
 "metadata": {
  "kernelspec": {
   "display_name": "Python 3",
   "language": "python",
   "name": "python3"
  },
  "language_info": {
   "codemirror_mode": {
    "name": "ipython",
    "version": 3
   },
   "file_extension": ".py",
   "mimetype": "text/x-python",
   "name": "python",
   "nbconvert_exporter": "python",
   "pygments_lexer": "ipython3",
   "version": "3.9.1"
  }
 },
 "nbformat": 4,
 "nbformat_minor": 5
}

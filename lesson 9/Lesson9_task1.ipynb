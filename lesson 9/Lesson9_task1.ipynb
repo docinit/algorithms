{
 "cells": [
  {
   "cell_type": "code",
   "execution_count": null,
   "metadata": {},
   "outputs": [],
   "source": [
    "# 1. Определение количества различных подстрок с использованием хеш-функции.\n",
    "# Пусть на вход функции дана строка. Требуется вернуть количество различных подстрок в этой строке.\n",
    "\n",
    "import hashlib,sys\n",
    "#sys.setrecursionlimit(1000000) \n",
    "def n_substrings(string,var_string,x):\n",
    "\n",
    "    assert len(string)>0, 'Строка не может быть пустой!'\n",
    "    string=list(string)\n",
    "    if len(string) == 1:\n",
    "        if var_string.get(''.join(string)):\n",
    "            pass\n",
    "        else:\n",
    "            ha=hashlib.sha1(''.join(string).encode('utf-8')).hexdigest()\n",
    "            var_string[''.join(string)]=''.join(ha)\n",
    "    elif len(string)>1: \n",
    "        for index, item in enumerate(string):\n",
    "            if index<len(string):\n",
    "                if var_string.get(''.join(string[index:])):\n",
    "                    pass\n",
    "                elif string[index:]!=x:\n",
    "                    ha=hashlib.sha1(''.join(string[index:]).encode('utf-8')).hexdigest()\n",
    "                    var_string[''.join(string[index:])]=''.join(ha)\n",
    "        string=string[:-1]\n",
    "        n_substrings(string,var_string,x)\n",
    "    k=len(var_string)\n",
    "    return k,var_string\n",
    "\n",
    "\n",
    "var_string={}\n",
    "string = str(input('Введите Вашу фразу: '))\n",
    "x=list(string)\n",
    "n,var_string=n_substrings(string,var_string,x)\n",
    "\n",
    "\n",
    "print(f'Строка содержит {n} подстрок')\n"
   ]
  }
 ],
 "metadata": {
  "kernelspec": {
   "display_name": "Python 3",
   "language": "python",
   "name": "python3"
  },
  "language_info": {
   "codemirror_mode": {
    "name": "ipython",
    "version": 3
   },
   "file_extension": ".py",
   "mimetype": "text/x-python",
   "name": "python",
   "nbconvert_exporter": "python",
   "pygments_lexer": "ipython3",
   "version": "3.7.3"
  }
 },
 "nbformat": 4,
 "nbformat_minor": 2
}

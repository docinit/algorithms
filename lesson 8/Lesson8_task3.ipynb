{
 "cells": [
  {
   "cell_type": "code",
   "execution_count": 43,
   "metadata": {
    "scrolled": true
   },
   "outputs": [
    {
     "name": "stdout",
     "output_type": "stream",
     "text": [
      "Введите количество вершин: 10\n",
      "Введите вершину, для которой искать связи: 2\n",
      "[0, 6, 2, 1, 6, 2]\n",
      "[9, 0, 9, 6]\n",
      "[3, 2, 0, 9, 6, 7, 3, 5]\n",
      "[7, 0, 1, 0, 0, 0, 5]\n",
      "[2, 1, 4, 1]\n",
      "[4, 6, 0, 3]\n",
      "[0, 5, 7, 8, 8]\n",
      "[5, 8, 5, 0, 0, 2]\n",
      "[]\n",
      "[8, 0, 8, 1, 7]\n",
      "С указанной вершины можно дойти до следующих вершин: [0, 1, 3, 4, 5, 6, 7, 8, 9]\n"
     ]
    }
   ],
   "source": [
    "#3. Написать программу, которая обходит не взвешенный ориентированный граф без петель,\n",
    "#в котором все вершины связаны, по алгоритму поиска в глубину (Depth-First Search).\n",
    "#Примечания:\n",
    "#a. граф должен храниться в виде списка смежности;\n",
    "#b. генерация графа выполняется в отдельной функции, которая принимает на вход число вершин.\n",
    "\n",
    "\n",
    "### Формирование случайного графа. Согласно разъяснениям преподавателя: можно сделать связи не с каждой вершиной.\n",
    "\n",
    "import random\n",
    "\n",
    "## Ввод начальных данных: количество вершин (1) и номер вершины (2), для которой ищутся связи\n",
    "size=int(input('Введите количество вершин: '))\n",
    "start=int(input('Введите вершину, для которой искать связи: '))\n",
    "## Генерация графа - функция\n",
    "def graph(size):\n",
    "    #range_verticies=[i for i in range(size)]\n",
    "    graph=[]\n",
    "    #print(graph)\n",
    "    for i in range(size):\n",
    "        k=[random.randint(0,size-1) for k in list(set(range(random.randint(1,size-1))))]\n",
    "        k.sort\n",
    "        graph.append(k)\n",
    "    for k,i in enumerate(graph):\n",
    "        for f,x in enumerate(i):\n",
    "            if k==f:\n",
    "                graph[k][f]=0\n",
    "            while len(i)>0 and i[-1]==0:\n",
    "                i.pop(-1)\n",
    "                \n",
    "    for i in graph:\n",
    "        print(i)\n",
    "    return graph\n",
    "## Генерация графа - запуск функции        \n",
    "graph=graph(size)\n",
    "\n",
    "\n",
    "## Поиск вглубину\n",
    "def dfs(graph, start, is_visited=0):\n",
    "    if is_visited==0:\n",
    "        is_visited = []\n",
    "    is_visited.append(start)\n",
    "    for next in graph[start]:\n",
    "        if next not in is_visited:\n",
    "            dfs(graph, next, is_visited)\n",
    "    \n",
    "    return is_visited\n",
    "\n",
    "\n",
    "\n",
    "## Проверка: вдруг пользователь указал номер вершины, которой не может быть...?\n",
    "if start > size-1:\n",
    "    start=size-1\n",
    "    print('Вы указали недопустимое значение; будет анализироваться последняя вершина',size-1)\n",
    "    \n",
    "## Запуск поиска вглубину\n",
    "visited=dfs(graph, start)\n",
    "\n",
    "# Первое добавленное значение - стартовая вершина; ее можно удалить, т.к. идти до нее не нужно.\n",
    "visited.pop(0)\n",
    "print('С указанной вершины можно дойти до следующих вершин:',sorted(visited))"
   ]
  }
 ],
 "metadata": {
  "kernelspec": {
   "display_name": "Python 3",
   "language": "python",
   "name": "python3"
  },
  "language_info": {
   "codemirror_mode": {
    "name": "ipython",
    "version": 3
   },
   "file_extension": ".py",
   "mimetype": "text/x-python",
   "name": "python",
   "nbconvert_exporter": "python",
   "pygments_lexer": "ipython3",
   "version": "3.7.3"
  }
 },
 "nbformat": 4,
 "nbformat_minor": 2
}

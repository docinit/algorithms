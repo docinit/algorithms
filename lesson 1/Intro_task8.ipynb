{
 "cells": [
  {
   "cell_type": "code",
   "execution_count": null,
   "metadata": {},
   "outputs": [],
   "source": [
    "# Вводятся три разных числа. Найти, какое из них является средним (больше одного, но меньше другого).\n",
    "\n",
    "num1 = int(input(\"Введите первое число\"))\n",
    "num2 = int(input(\"Введите второе число\"))\n",
    "num3 = int(input(\"Введите третье число\"))\n",
    "\n",
    "if num1 > num2:\n",
    "  if num3 < num2:\n",
    "    medium = num2\n",
    "  elif num1 < num3:\n",
    "    medium = num1\n",
    "  else:\n",
    "    medium = num3\n",
    "elif num3 > num1:\n",
    "  if num3 < num2:\n",
    "    medium = num3\n",
    "  else:\n",
    "    medium = num2\n",
    "else:\n",
    "  medium = num1\n",
    "  \n",
    "print (f'Среднее число = {medium}')"
   ]
  }
 ],
 "metadata": {
  "kernelspec": {
   "display_name": "Python 3",
   "language": "python",
   "name": "python3"
  },
  "language_info": {
   "codemirror_mode": {
    "name": "ipython",
    "version": 3
   },
   "file_extension": ".py",
   "mimetype": "text/x-python",
   "name": "python",
   "nbconvert_exporter": "python",
   "pygments_lexer": "ipython3",
   "version": "3.7.3"
  }
 },
 "nbformat": 4,
 "nbformat_minor": 2
}

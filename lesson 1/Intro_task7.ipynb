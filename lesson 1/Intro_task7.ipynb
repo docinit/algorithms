{
 "cells": [
  {
   "cell_type": "code",
   "execution_count": 6,
   "metadata": {},
   "outputs": [
    {
     "name": "stdout",
     "output_type": "stream",
     "text": [
      "Введите год: 2400\n",
      "2400 - високосный год.\n"
     ]
    }
   ],
   "source": [
    "# Определить, является ли год, который ввел пользователь, високосным или не високосным.\n",
    "year = int(input('Введите год: '))\n",
    "\n",
    "if year % 4 == 0: # если на 4 не делится - сразу переходим к else, а если делится без остатка - проходим вложенный if\n",
    "  if year % 100 != 0: # год високосный, если не является концом столетия\n",
    "    print (f'{year} - високосный год.')\n",
    "  elif year % 400 == 0: # високосный год делится без остатка на 400\n",
    "    print (f'{year} - високосный год.')\n",
    "  else: # в остальных случаях год не является високосным\n",
    "    print (f'{year} - не високосный год.')\n",
    "else:\n",
    "  print (f'{year} - не високосный год.')"
   ]
  },
  {
   "cell_type": "code",
   "execution_count": null,
   "metadata": {},
   "outputs": [],
   "source": []
  }
 ],
 "metadata": {
  "kernelspec": {
   "display_name": "Python 3",
   "language": "python",
   "name": "python3"
  },
  "language_info": {
   "codemirror_mode": {
    "name": "ipython",
    "version": 3
   },
   "file_extension": ".py",
   "mimetype": "text/x-python",
   "name": "python",
   "nbconvert_exporter": "python",
   "pygments_lexer": "ipython3",
   "version": "3.7.3"
  }
 },
 "nbformat": 4,
 "nbformat_minor": 2
}

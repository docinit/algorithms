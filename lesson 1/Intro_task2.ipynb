{
 "cells": [
  {
   "cell_type": "code",
   "execution_count": null,
   "metadata": {},
   "outputs": [],
   "source": [
    "# По введенным пользователем координатам двух точек вывести уравнение прямой вида y = kx + b, проходящей через эти точки\n",
    "x1 = float(input('Введите проекцию на ось x первой точки: '))\n",
    "y1 = float(input('Введите проекцию на ось y первой точки: '))\n",
    "x2 = float(input('Введите проекцию на ось x второй точки: '))\n",
    "y2 = float(input('Введите проекцию на ось y второй точки: '))\n",
    "\n",
    "\n",
    "k = (y2-y1)/(x2-x1)\n",
    "c = y1 -x1*(y2-y1)/(x2-x1)\n",
    "print (f'y = {k}*x+{c}')"
   ]
  }
 ],
 "metadata": {
  "kernelspec": {
   "display_name": "Python 3",
   "language": "python",
   "name": "python3"
  },
  "language_info": {
   "codemirror_mode": {
    "name": "ipython",
    "version": 3
   },
   "file_extension": ".py",
   "mimetype": "text/x-python",
   "name": "python",
   "nbconvert_exporter": "python",
   "pygments_lexer": "ipython3",
   "version": "3.7.3"
  }
 },
 "nbformat": 4,
 "nbformat_minor": 2
}

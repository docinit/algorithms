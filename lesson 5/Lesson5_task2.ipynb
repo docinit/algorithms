{
 "cells": [
  {
   "cell_type": "code",
   "execution_count": 69,
   "metadata": {},
   "outputs": [
    {
     "name": "stdout",
     "output_type": "stream",
     "text": [
      "Введите шестнадцатеричное число: 123\n",
      "Введите шестнадцатеричное число: 654\n",
      "произведение =  ['7', '7', '7']\n",
      "сумма =  ['7', '3', '1', '7', 'C']\n"
     ]
    }
   ],
   "source": [
    "#2. Написать программу сложения и умножения двух шестнадцатеричных чисел.\n",
    "#При этом каждое число представляется как массив, элементы которого — цифры числа.\n",
    "#Например, пользователь ввёл A2 и C4F. Нужно сохранить их как [‘A’, ‘2’] и [‘C’, ‘4’, ‘F’] соответственно.\n",
    "#Сумма чисел из примера: [‘C’, ‘F’, ‘1’], произведение - [‘7’, ‘C’, ‘9’, ‘F’, ‘E’].\n",
    "\n",
    "from collections import ChainMap, defaultdict\n",
    "a1=str.upper(input('Введите шестнадцатеричное число: '))\n",
    "a2=str.upper(input('Введите шестнадцатеричное число: '))\n",
    "list_num1=[*a1]\n",
    "list_num2=[*a2]\n",
    "\n",
    "num_dict={}\n",
    "for i in range(10):\n",
    "    num_dict[str(i)]=i\n",
    "letter_dict=defaultdict(int)\n",
    "for k,i in enumerate(['A','B','C','D','E','F']):\n",
    "    letter_dict[i]=k+10\n",
    "\n",
    "hex_map=ChainMap(num_dict,letter_dict)\n",
    "\n",
    "list_num1.reverse()\n",
    "k=0\n",
    "hex_result1=0\n",
    "for i in list_num1:\n",
    "    hex_result1+=hex_map[i]*16**k\n",
    "    k+=1\n",
    "    \n",
    "list_num2.reverse()\n",
    "k=0\n",
    "hex_result2=0\n",
    "for i in list_num2:\n",
    "    hex_result2+=hex_map[i]*16**k\n",
    "    k+=1\n",
    "\n",
    "summa=hex_result1+hex_result2\n",
    "mult=hex_result1*hex_result2\n",
    "\n",
    "#а теперь в 16-виде\n",
    "def d(n,b=16):\n",
    "    d.t = '0123456789ABCDEFGHIJKLMNOPQRSTUVWXYZ'           \n",
    "    r=''\n",
    "    while n:\n",
    "        n, y = divmod(n, b) \n",
    "        r=d.t[y]+r\n",
    "    return r\n",
    "print('произведение = ', list(d(mult)))\n",
    "print('сумма = ', list(d(summa)))"
   ]
  },
  {
   "cell_type": "code",
   "execution_count": 74,
   "metadata": {},
   "outputs": [
    {
     "data": {
      "text/plain": [
       "'1'"
      ]
     },
     "execution_count": 74,
     "metadata": {},
     "output_type": "execute_result"
    }
   ],
   "source": [
    "d.t[1]"
   ]
  },
  {
   "cell_type": "code",
   "execution_count": null,
   "metadata": {},
   "outputs": [],
   "source": []
  }
 ],
 "metadata": {
  "kernelspec": {
   "display_name": "Python 3",
   "language": "python",
   "name": "python3"
  },
  "language_info": {
   "codemirror_mode": {
    "name": "ipython",
    "version": 3
   },
   "file_extension": ".py",
   "mimetype": "text/x-python",
   "name": "python",
   "nbconvert_exporter": "python",
   "pygments_lexer": "ipython3",
   "version": "3.7.3"
  }
 },
 "nbformat": 4,
 "nbformat_minor": 2
}
